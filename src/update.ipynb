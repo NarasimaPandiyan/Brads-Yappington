{
 "cells": [
  {
   "cell_type": "markdown",
   "metadata": {},
   "source": [
    "# install"
   ]
  },
  {
   "cell_type": "code",
   "execution_count": 1,
   "metadata": {},
   "outputs": [
    {
     "name": "stdout",
     "output_type": "stream",
     "text": [
      "Requirement already satisfied: opencv-python in e:\\brad\\.conda\\lib\\site-packages (4.9.0.80)\n",
      "Requirement already satisfied: numpy>=1.21.2 in e:\\brad\\.conda\\lib\\site-packages (from opencv-python) (1.26.4)\n",
      "Note: you may need to restart the kernel to use updated packages.\n",
      "Requirement already satisfied: matplotlib in e:\\brad\\.conda\\lib\\site-packages (3.9.0)\n",
      "Requirement already satisfied: contourpy>=1.0.1 in e:\\brad\\.conda\\lib\\site-packages (from matplotlib) (1.2.1)\n",
      "Requirement already satisfied: cycler>=0.10 in e:\\brad\\.conda\\lib\\site-packages (from matplotlib) (0.12.1)\n",
      "Requirement already satisfied: fonttools>=4.22.0 in e:\\brad\\.conda\\lib\\site-packages (from matplotlib) (4.51.0)\n",
      "Requirement already satisfied: kiwisolver>=1.3.1 in e:\\brad\\.conda\\lib\\site-packages (from matplotlib) (1.4.5)\n",
      "Requirement already satisfied: numpy>=1.23 in e:\\brad\\.conda\\lib\\site-packages (from matplotlib) (1.26.4)\n",
      "Requirement already satisfied: packaging>=20.0 in e:\\brad\\.conda\\lib\\site-packages (from matplotlib) (24.0)\n",
      "Requirement already satisfied: pillow>=8 in e:\\brad\\.conda\\lib\\site-packages (from matplotlib) (10.3.0)\n",
      "Requirement already satisfied: pyparsing>=2.3.1 in e:\\brad\\.conda\\lib\\site-packages (from matplotlib) (3.1.2)\n",
      "Requirement already satisfied: python-dateutil>=2.7 in e:\\brad\\.conda\\lib\\site-packages (from matplotlib) (2.9.0)\n",
      "Requirement already satisfied: six>=1.5 in e:\\brad\\.conda\\lib\\site-packages (from python-dateutil>=2.7->matplotlib) (1.16.0)\n",
      "Note: you may need to restart the kernel to use updated packages.\n",
      "Requirement already satisfied: numpy in e:\\brad\\.conda\\lib\\site-packages (1.26.4)\n",
      "Note: you may need to restart the kernel to use updated packages.\n",
      "Requirement already satisfied: albumentations in e:\\brad\\.conda\\lib\\site-packages (1.4.7)\n",
      "Requirement already satisfied: numpy>=1.24.4 in e:\\brad\\.conda\\lib\\site-packages (from albumentations) (1.26.4)\n",
      "Requirement already satisfied: scipy>=1.10.0 in e:\\brad\\.conda\\lib\\site-packages (from albumentations) (1.13.0)\n",
      "Requirement already satisfied: scikit-image>=0.21.0 in e:\\brad\\.conda\\lib\\site-packages (from albumentations) (0.23.2)\n",
      "Requirement already satisfied: PyYAML in e:\\brad\\.conda\\lib\\site-packages (from albumentations) (6.0.1)\n",
      "Requirement already satisfied: typing-extensions>=4.9.0 in e:\\brad\\.conda\\lib\\site-packages (from albumentations) (4.11.0)\n",
      "Requirement already satisfied: scikit-learn>=1.3.2 in e:\\brad\\.conda\\lib\\site-packages (from albumentations) (1.4.2)\n",
      "Requirement already satisfied: pydantic>=2.7.0 in e:\\brad\\.conda\\lib\\site-packages (from albumentations) (2.7.1)\n",
      "Requirement already satisfied: opencv-python-headless>=4.9.0 in e:\\brad\\.conda\\lib\\site-packages (from albumentations) (4.9.0.80)\n",
      "Requirement already satisfied: annotated-types>=0.4.0 in e:\\brad\\.conda\\lib\\site-packages (from pydantic>=2.7.0->albumentations) (0.7.0)\n",
      "Requirement already satisfied: pydantic-core==2.18.2 in e:\\brad\\.conda\\lib\\site-packages (from pydantic>=2.7.0->albumentations) (2.18.2)\n",
      "Requirement already satisfied: networkx>=2.8 in e:\\brad\\.conda\\lib\\site-packages (from scikit-image>=0.21.0->albumentations) (3.3)\n",
      "Requirement already satisfied: pillow>=9.1 in e:\\brad\\.conda\\lib\\site-packages (from scikit-image>=0.21.0->albumentations) (10.3.0)\n",
      "Requirement already satisfied: imageio>=2.33 in e:\\brad\\.conda\\lib\\site-packages (from scikit-image>=0.21.0->albumentations) (2.34.1)\n",
      "Requirement already satisfied: tifffile>=2022.8.12 in e:\\brad\\.conda\\lib\\site-packages (from scikit-image>=0.21.0->albumentations) (2024.5.10)\n",
      "Requirement already satisfied: packaging>=21 in e:\\brad\\.conda\\lib\\site-packages (from scikit-image>=0.21.0->albumentations) (24.0)\n",
      "Requirement already satisfied: lazy-loader>=0.4 in e:\\brad\\.conda\\lib\\site-packages (from scikit-image>=0.21.0->albumentations) (0.4)\n",
      "Requirement already satisfied: joblib>=1.2.0 in e:\\brad\\.conda\\lib\\site-packages (from scikit-learn>=1.3.2->albumentations) (1.4.2)\n",
      "Requirement already satisfied: threadpoolctl>=2.0.0 in e:\\brad\\.conda\\lib\\site-packages (from scikit-learn>=1.3.2->albumentations) (3.5.0)\n",
      "Note: you may need to restart the kernel to use updated packages.\n",
      "Requirement already satisfied: ultralytics==8.0.230 in e:\\brad\\.conda\\lib\\site-packages (8.0.230)\n",
      "Requirement already satisfied: matplotlib>=3.3.0 in e:\\brad\\.conda\\lib\\site-packages (from ultralytics==8.0.230) (3.9.0)\n",
      "Requirement already satisfied: numpy>=1.22.2 in e:\\brad\\.conda\\lib\\site-packages (from ultralytics==8.0.230) (1.26.4)\n",
      "Requirement already satisfied: opencv-python>=4.6.0 in e:\\brad\\.conda\\lib\\site-packages (from ultralytics==8.0.230) (4.9.0.80)\n",
      "Requirement already satisfied: pillow>=7.1.2 in e:\\brad\\.conda\\lib\\site-packages (from ultralytics==8.0.230) (10.3.0)\n",
      "Requirement already satisfied: pyyaml>=5.3.1 in e:\\brad\\.conda\\lib\\site-packages (from ultralytics==8.0.230) (6.0.1)\n",
      "Requirement already satisfied: requests>=2.23.0 in e:\\brad\\.conda\\lib\\site-packages (from ultralytics==8.0.230) (2.32.1)\n",
      "Requirement already satisfied: scipy>=1.4.1 in e:\\brad\\.conda\\lib\\site-packages (from ultralytics==8.0.230) (1.13.0)\n",
      "Requirement already satisfied: torch>=1.8.0 in e:\\brad\\.conda\\lib\\site-packages (from ultralytics==8.0.230) (2.3.0+cu121)\n",
      "Requirement already satisfied: torchvision>=0.9.0 in e:\\brad\\.conda\\lib\\site-packages (from ultralytics==8.0.230) (0.18.0)\n",
      "Requirement already satisfied: tqdm>=4.64.0 in e:\\brad\\.conda\\lib\\site-packages (from ultralytics==8.0.230) (4.66.4)\n",
      "Requirement already satisfied: pandas>=1.1.4 in e:\\brad\\.conda\\lib\\site-packages (from ultralytics==8.0.230) (2.2.2)\n",
      "Requirement already satisfied: seaborn>=0.11.0 in e:\\brad\\.conda\\lib\\site-packages (from ultralytics==8.0.230) (0.13.2)\n",
      "Requirement already satisfied: psutil in e:\\brad\\.conda\\lib\\site-packages (from ultralytics==8.0.230) (5.9.8)\n",
      "Requirement already satisfied: py-cpuinfo in e:\\brad\\.conda\\lib\\site-packages (from ultralytics==8.0.230) (9.0.0)\n",
      "Requirement already satisfied: thop>=0.1.1 in e:\\brad\\.conda\\lib\\site-packages (from ultralytics==8.0.230) (0.1.1.post2209072238)\n",
      "Requirement already satisfied: contourpy>=1.0.1 in e:\\brad\\.conda\\lib\\site-packages (from matplotlib>=3.3.0->ultralytics==8.0.230) (1.2.1)\n",
      "Requirement already satisfied: cycler>=0.10 in e:\\brad\\.conda\\lib\\site-packages (from matplotlib>=3.3.0->ultralytics==8.0.230) (0.12.1)\n",
      "Requirement already satisfied: fonttools>=4.22.0 in e:\\brad\\.conda\\lib\\site-packages (from matplotlib>=3.3.0->ultralytics==8.0.230) (4.51.0)\n",
      "Requirement already satisfied: kiwisolver>=1.3.1 in e:\\brad\\.conda\\lib\\site-packages (from matplotlib>=3.3.0->ultralytics==8.0.230) (1.4.5)\n",
      "Requirement already satisfied: packaging>=20.0 in e:\\brad\\.conda\\lib\\site-packages (from matplotlib>=3.3.0->ultralytics==8.0.230) (24.0)\n",
      "Requirement already satisfied: pyparsing>=2.3.1 in e:\\brad\\.conda\\lib\\site-packages (from matplotlib>=3.3.0->ultralytics==8.0.230) (3.1.2)\n",
      "Requirement already satisfied: python-dateutil>=2.7 in e:\\brad\\.conda\\lib\\site-packages (from matplotlib>=3.3.0->ultralytics==8.0.230) (2.9.0)\n",
      "Requirement already satisfied: pytz>=2020.1 in e:\\brad\\.conda\\lib\\site-packages (from pandas>=1.1.4->ultralytics==8.0.230) (2024.1)\n",
      "Requirement already satisfied: tzdata>=2022.7 in e:\\brad\\.conda\\lib\\site-packages (from pandas>=1.1.4->ultralytics==8.0.230) (2024.1)\n",
      "Requirement already satisfied: charset-normalizer<4,>=2 in e:\\brad\\.conda\\lib\\site-packages (from requests>=2.23.0->ultralytics==8.0.230) (3.3.2)\n",
      "Requirement already satisfied: idna<4,>=2.5 in e:\\brad\\.conda\\lib\\site-packages (from requests>=2.23.0->ultralytics==8.0.230) (3.7)\n",
      "Requirement already satisfied: urllib3<3,>=1.21.1 in e:\\brad\\.conda\\lib\\site-packages (from requests>=2.23.0->ultralytics==8.0.230) (2.2.1)\n",
      "Requirement already satisfied: certifi>=2017.4.17 in e:\\brad\\.conda\\lib\\site-packages (from requests>=2.23.0->ultralytics==8.0.230) (2024.2.2)\n",
      "Requirement already satisfied: filelock in e:\\brad\\.conda\\lib\\site-packages (from torch>=1.8.0->ultralytics==8.0.230) (3.14.0)\n",
      "Requirement already satisfied: typing-extensions>=4.8.0 in e:\\brad\\.conda\\lib\\site-packages (from torch>=1.8.0->ultralytics==8.0.230) (4.11.0)\n",
      "Requirement already satisfied: sympy in e:\\brad\\.conda\\lib\\site-packages (from torch>=1.8.0->ultralytics==8.0.230) (1.12)\n",
      "Requirement already satisfied: networkx in e:\\brad\\.conda\\lib\\site-packages (from torch>=1.8.0->ultralytics==8.0.230) (3.3)\n",
      "Requirement already satisfied: jinja2 in e:\\brad\\.conda\\lib\\site-packages (from torch>=1.8.0->ultralytics==8.0.230) (3.1.4)\n",
      "Requirement already satisfied: fsspec in e:\\brad\\.conda\\lib\\site-packages (from torch>=1.8.0->ultralytics==8.0.230) (2024.5.0)\n",
      "Requirement already satisfied: mkl<=2021.4.0,>=2021.1.1 in e:\\brad\\.conda\\lib\\site-packages (from torch>=1.8.0->ultralytics==8.0.230) (2021.4.0)\n",
      "Requirement already satisfied: colorama in e:\\brad\\.conda\\lib\\site-packages (from tqdm>=4.64.0->ultralytics==8.0.230) (0.4.6)\n",
      "Requirement already satisfied: intel-openmp==2021.* in e:\\brad\\.conda\\lib\\site-packages (from mkl<=2021.4.0,>=2021.1.1->torch>=1.8.0->ultralytics==8.0.230) (2021.4.0)\n",
      "Requirement already satisfied: tbb==2021.* in e:\\brad\\.conda\\lib\\site-packages (from mkl<=2021.4.0,>=2021.1.1->torch>=1.8.0->ultralytics==8.0.230) (2021.12.0)\n",
      "Requirement already satisfied: six>=1.5 in e:\\brad\\.conda\\lib\\site-packages (from python-dateutil>=2.7->matplotlib>=3.3.0->ultralytics==8.0.230) (1.16.0)\n",
      "Requirement already satisfied: MarkupSafe>=2.0 in e:\\brad\\.conda\\lib\\site-packages (from jinja2->torch>=1.8.0->ultralytics==8.0.230) (2.1.5)\n",
      "Requirement already satisfied: mpmath>=0.19 in e:\\brad\\.conda\\lib\\site-packages (from sympy->torch>=1.8.0->ultralytics==8.0.230) (1.3.0)\n",
      "Note: you may need to restart the kernel to use updated packages.\n",
      "Requirement already satisfied: gradio in e:\\brad\\.conda\\lib\\site-packages (4.31.4)\n",
      "Requirement already satisfied: aiofiles<24.0,>=22.0 in e:\\brad\\.conda\\lib\\site-packages (from gradio) (23.2.1)\n",
      "Requirement already satisfied: altair<6.0,>=4.2.0 in e:\\brad\\.conda\\lib\\site-packages (from gradio) (5.3.0)\n",
      "Requirement already satisfied: fastapi in e:\\brad\\.conda\\lib\\site-packages (from gradio) (0.111.0)\n",
      "Requirement already satisfied: ffmpy in e:\\brad\\.conda\\lib\\site-packages (from gradio) (0.3.2)\n",
      "Requirement already satisfied: gradio-client==0.16.4 in e:\\brad\\.conda\\lib\\site-packages (from gradio) (0.16.4)\n",
      "Requirement already satisfied: httpx>=0.24.1 in e:\\brad\\.conda\\lib\\site-packages (from gradio) (0.27.0)\n",
      "Requirement already satisfied: huggingface-hub>=0.19.3 in e:\\brad\\.conda\\lib\\site-packages (from gradio) (0.23.0)\n",
      "Requirement already satisfied: importlib-resources<7.0,>=1.3 in e:\\brad\\.conda\\lib\\site-packages (from gradio) (6.4.0)\n",
      "Requirement already satisfied: jinja2<4.0 in e:\\brad\\.conda\\lib\\site-packages (from gradio) (3.1.4)\n",
      "Requirement already satisfied: markupsafe~=2.0 in e:\\brad\\.conda\\lib\\site-packages (from gradio) (2.1.5)\n",
      "Requirement already satisfied: matplotlib~=3.0 in e:\\brad\\.conda\\lib\\site-packages (from gradio) (3.9.0)\n",
      "Requirement already satisfied: numpy~=1.0 in e:\\brad\\.conda\\lib\\site-packages (from gradio) (1.26.4)\n",
      "Requirement already satisfied: orjson~=3.0 in e:\\brad\\.conda\\lib\\site-packages (from gradio) (3.10.3)\n",
      "Requirement already satisfied: packaging in e:\\brad\\.conda\\lib\\site-packages (from gradio) (24.0)\n",
      "Requirement already satisfied: pandas<3.0,>=1.0 in e:\\brad\\.conda\\lib\\site-packages (from gradio) (2.2.2)\n",
      "Requirement already satisfied: pillow<11.0,>=8.0 in e:\\brad\\.conda\\lib\\site-packages (from gradio) (10.3.0)\n",
      "Requirement already satisfied: pydantic>=2.0 in e:\\brad\\.conda\\lib\\site-packages (from gradio) (2.7.1)\n",
      "Requirement already satisfied: pydub in e:\\brad\\.conda\\lib\\site-packages (from gradio) (0.25.1)\n",
      "Requirement already satisfied: python-multipart>=0.0.9 in e:\\brad\\.conda\\lib\\site-packages (from gradio) (0.0.9)\n",
      "Requirement already satisfied: pyyaml<7.0,>=5.0 in e:\\brad\\.conda\\lib\\site-packages (from gradio) (6.0.1)\n",
      "Requirement already satisfied: ruff>=0.2.2 in e:\\brad\\.conda\\lib\\site-packages (from gradio) (0.4.4)\n",
      "Requirement already satisfied: semantic-version~=2.0 in e:\\brad\\.conda\\lib\\site-packages (from gradio) (2.10.0)\n",
      "Requirement already satisfied: tomlkit==0.12.0 in e:\\brad\\.conda\\lib\\site-packages (from gradio) (0.12.0)\n",
      "Requirement already satisfied: typer<1.0,>=0.12 in e:\\brad\\.conda\\lib\\site-packages (from gradio) (0.12.3)\n",
      "Requirement already satisfied: typing-extensions~=4.0 in e:\\brad\\.conda\\lib\\site-packages (from gradio) (4.11.0)\n",
      "Requirement already satisfied: urllib3~=2.0 in e:\\brad\\.conda\\lib\\site-packages (from gradio) (2.2.1)\n",
      "Requirement already satisfied: uvicorn>=0.14.0 in e:\\brad\\.conda\\lib\\site-packages (from gradio) (0.29.0)\n",
      "Requirement already satisfied: fsspec in e:\\brad\\.conda\\lib\\site-packages (from gradio-client==0.16.4->gradio) (2024.5.0)\n",
      "Requirement already satisfied: websockets<12.0,>=10.0 in e:\\brad\\.conda\\lib\\site-packages (from gradio-client==0.16.4->gradio) (11.0.3)\n",
      "Requirement already satisfied: jsonschema>=3.0 in e:\\brad\\.conda\\lib\\site-packages (from altair<6.0,>=4.2.0->gradio) (4.22.0)\n",
      "Requirement already satisfied: toolz in e:\\brad\\.conda\\lib\\site-packages (from altair<6.0,>=4.2.0->gradio) (0.12.1)\n",
      "Requirement already satisfied: anyio in e:\\brad\\.conda\\lib\\site-packages (from httpx>=0.24.1->gradio) (4.3.0)\n",
      "Requirement already satisfied: certifi in e:\\brad\\.conda\\lib\\site-packages (from httpx>=0.24.1->gradio) (2024.2.2)\n",
      "Requirement already satisfied: httpcore==1.* in e:\\brad\\.conda\\lib\\site-packages (from httpx>=0.24.1->gradio) (1.0.5)\n",
      "Requirement already satisfied: idna in e:\\brad\\.conda\\lib\\site-packages (from httpx>=0.24.1->gradio) (3.7)\n",
      "Requirement already satisfied: sniffio in e:\\brad\\.conda\\lib\\site-packages (from httpx>=0.24.1->gradio) (1.3.1)\n",
      "Requirement already satisfied: h11<0.15,>=0.13 in e:\\brad\\.conda\\lib\\site-packages (from httpcore==1.*->httpx>=0.24.1->gradio) (0.14.0)\n",
      "Requirement already satisfied: filelock in e:\\brad\\.conda\\lib\\site-packages (from huggingface-hub>=0.19.3->gradio) (3.14.0)\n",
      "Requirement already satisfied: requests in e:\\brad\\.conda\\lib\\site-packages (from huggingface-hub>=0.19.3->gradio) (2.32.1)\n",
      "Requirement already satisfied: tqdm>=4.42.1 in e:\\brad\\.conda\\lib\\site-packages (from huggingface-hub>=0.19.3->gradio) (4.66.4)\n",
      "Requirement already satisfied: contourpy>=1.0.1 in e:\\brad\\.conda\\lib\\site-packages (from matplotlib~=3.0->gradio) (1.2.1)\n",
      "Requirement already satisfied: cycler>=0.10 in e:\\brad\\.conda\\lib\\site-packages (from matplotlib~=3.0->gradio) (0.12.1)\n",
      "Requirement already satisfied: fonttools>=4.22.0 in e:\\brad\\.conda\\lib\\site-packages (from matplotlib~=3.0->gradio) (4.51.0)\n",
      "Requirement already satisfied: kiwisolver>=1.3.1 in e:\\brad\\.conda\\lib\\site-packages (from matplotlib~=3.0->gradio) (1.4.5)\n",
      "Requirement already satisfied: pyparsing>=2.3.1 in e:\\brad\\.conda\\lib\\site-packages (from matplotlib~=3.0->gradio) (3.1.2)\n",
      "Requirement already satisfied: python-dateutil>=2.7 in e:\\brad\\.conda\\lib\\site-packages (from matplotlib~=3.0->gradio) (2.9.0)\n",
      "Requirement already satisfied: pytz>=2020.1 in e:\\brad\\.conda\\lib\\site-packages (from pandas<3.0,>=1.0->gradio) (2024.1)\n",
      "Requirement already satisfied: tzdata>=2022.7 in e:\\brad\\.conda\\lib\\site-packages (from pandas<3.0,>=1.0->gradio) (2024.1)\n",
      "Requirement already satisfied: annotated-types>=0.4.0 in e:\\brad\\.conda\\lib\\site-packages (from pydantic>=2.0->gradio) (0.7.0)\n",
      "Requirement already satisfied: pydantic-core==2.18.2 in e:\\brad\\.conda\\lib\\site-packages (from pydantic>=2.0->gradio) (2.18.2)\n",
      "Requirement already satisfied: click>=8.0.0 in e:\\brad\\.conda\\lib\\site-packages (from typer<1.0,>=0.12->gradio) (8.1.7)\n",
      "Requirement already satisfied: shellingham>=1.3.0 in e:\\brad\\.conda\\lib\\site-packages (from typer<1.0,>=0.12->gradio) (1.5.4)\n",
      "Requirement already satisfied: rich>=10.11.0 in e:\\brad\\.conda\\lib\\site-packages (from typer<1.0,>=0.12->gradio) (13.7.1)\n",
      "Requirement already satisfied: starlette<0.38.0,>=0.37.2 in e:\\brad\\.conda\\lib\\site-packages (from fastapi->gradio) (0.37.2)\n",
      "Requirement already satisfied: fastapi-cli>=0.0.2 in e:\\brad\\.conda\\lib\\site-packages (from fastapi->gradio) (0.0.4)\n",
      "Requirement already satisfied: ujson!=4.0.2,!=4.1.0,!=4.2.0,!=4.3.0,!=5.0.0,!=5.1.0,>=4.0.1 in e:\\brad\\.conda\\lib\\site-packages (from fastapi->gradio) (5.10.0)\n",
      "Requirement already satisfied: email_validator>=2.0.0 in e:\\brad\\.conda\\lib\\site-packages (from fastapi->gradio) (2.1.1)\n",
      "Requirement already satisfied: colorama in e:\\brad\\.conda\\lib\\site-packages (from click>=8.0.0->typer<1.0,>=0.12->gradio) (0.4.6)\n",
      "Requirement already satisfied: dnspython>=2.0.0 in e:\\brad\\.conda\\lib\\site-packages (from email_validator>=2.0.0->fastapi->gradio) (2.6.1)\n",
      "Requirement already satisfied: attrs>=22.2.0 in e:\\brad\\.conda\\lib\\site-packages (from jsonschema>=3.0->altair<6.0,>=4.2.0->gradio) (23.2.0)\n",
      "Requirement already satisfied: jsonschema-specifications>=2023.03.6 in e:\\brad\\.conda\\lib\\site-packages (from jsonschema>=3.0->altair<6.0,>=4.2.0->gradio) (2023.12.1)\n",
      "Requirement already satisfied: referencing>=0.28.4 in e:\\brad\\.conda\\lib\\site-packages (from jsonschema>=3.0->altair<6.0,>=4.2.0->gradio) (0.35.1)\n",
      "Requirement already satisfied: rpds-py>=0.7.1 in e:\\brad\\.conda\\lib\\site-packages (from jsonschema>=3.0->altair<6.0,>=4.2.0->gradio) (0.18.1)\n",
      "Requirement already satisfied: six>=1.5 in e:\\brad\\.conda\\lib\\site-packages (from python-dateutil>=2.7->matplotlib~=3.0->gradio) (1.16.0)\n",
      "Requirement already satisfied: markdown-it-py>=2.2.0 in e:\\brad\\.conda\\lib\\site-packages (from rich>=10.11.0->typer<1.0,>=0.12->gradio) (3.0.0)\n",
      "Requirement already satisfied: pygments<3.0.0,>=2.13.0 in e:\\brad\\.conda\\lib\\site-packages (from rich>=10.11.0->typer<1.0,>=0.12->gradio) (2.18.0)\n",
      "Requirement already satisfied: exceptiongroup>=1.0.2 in e:\\brad\\.conda\\lib\\site-packages (from anyio->httpx>=0.24.1->gradio) (1.2.0)\n",
      "Requirement already satisfied: httptools>=0.5.0 in e:\\brad\\.conda\\lib\\site-packages (from uvicorn[standard]>=0.12.0->fastapi->gradio) (0.6.1)\n",
      "Requirement already satisfied: python-dotenv>=0.13 in e:\\brad\\.conda\\lib\\site-packages (from uvicorn[standard]>=0.12.0->fastapi->gradio) (1.0.1)\n",
      "Requirement already satisfied: watchfiles>=0.13 in e:\\brad\\.conda\\lib\\site-packages (from uvicorn[standard]>=0.12.0->fastapi->gradio) (0.21.0)\n",
      "Requirement already satisfied: charset-normalizer<4,>=2 in e:\\brad\\.conda\\lib\\site-packages (from requests->huggingface-hub>=0.19.3->gradio) (3.3.2)\n",
      "Requirement already satisfied: mdurl~=0.1 in e:\\brad\\.conda\\lib\\site-packages (from markdown-it-py>=2.2.0->rich>=10.11.0->typer<1.0,>=0.12->gradio) (0.1.2)\n",
      "Note: you may need to restart the kernel to use updated packages.\n",
      "Requirement already satisfied: torch in e:\\brad\\.conda\\lib\\site-packages (2.3.0+cu121)\n",
      "Requirement already satisfied: filelock in e:\\brad\\.conda\\lib\\site-packages (from torch) (3.14.0)\n",
      "Requirement already satisfied: typing-extensions>=4.8.0 in e:\\brad\\.conda\\lib\\site-packages (from torch) (4.11.0)\n",
      "Requirement already satisfied: sympy in e:\\brad\\.conda\\lib\\site-packages (from torch) (1.12)\n",
      "Requirement already satisfied: networkx in e:\\brad\\.conda\\lib\\site-packages (from torch) (3.3)\n",
      "Requirement already satisfied: jinja2 in e:\\brad\\.conda\\lib\\site-packages (from torch) (3.1.4)\n",
      "Requirement already satisfied: fsspec in e:\\brad\\.conda\\lib\\site-packages (from torch) (2024.5.0)\n",
      "Requirement already satisfied: mkl<=2021.4.0,>=2021.1.1 in e:\\brad\\.conda\\lib\\site-packages (from torch) (2021.4.0)\n",
      "Requirement already satisfied: intel-openmp==2021.* in e:\\brad\\.conda\\lib\\site-packages (from mkl<=2021.4.0,>=2021.1.1->torch) (2021.4.0)\n",
      "Requirement already satisfied: tbb==2021.* in e:\\brad\\.conda\\lib\\site-packages (from mkl<=2021.4.0,>=2021.1.1->torch) (2021.12.0)\n",
      "Requirement already satisfied: MarkupSafe>=2.0 in e:\\brad\\.conda\\lib\\site-packages (from jinja2->torch) (2.1.5)\n",
      "Requirement already satisfied: mpmath>=0.19 in e:\\brad\\.conda\\lib\\site-packages (from sympy->torch) (1.3.0)\n",
      "Note: you may need to restart the kernel to use updated packages.\n",
      "Note: you may need to restart the kernel to use updated packages.\n"
     ]
    },
    {
     "name": "stderr",
     "output_type": "stream",
     "text": [
      "ERROR: Could not find a version that satisfies the requirement ruamel (from versions: none)\n",
      "ERROR: No matching distribution found for ruamel\n"
     ]
    },
    {
     "name": "stdout",
     "output_type": "stream",
     "text": [
      "Requirement already satisfied: easyocr in e:\\brad\\.conda\\lib\\site-packages (1.7.1)\n",
      "Requirement already satisfied: torch in e:\\brad\\.conda\\lib\\site-packages (from easyocr) (2.3.0+cu121)\n",
      "Requirement already satisfied: torchvision>=0.5 in e:\\brad\\.conda\\lib\\site-packages (from easyocr) (0.18.0)\n",
      "Requirement already satisfied: opencv-python-headless in e:\\brad\\.conda\\lib\\site-packages (from easyocr) (4.9.0.80)\n",
      "Requirement already satisfied: scipy in e:\\brad\\.conda\\lib\\site-packages (from easyocr) (1.13.0)\n",
      "Requirement already satisfied: numpy in e:\\brad\\.conda\\lib\\site-packages (from easyocr) (1.26.4)\n",
      "Requirement already satisfied: Pillow in e:\\brad\\.conda\\lib\\site-packages (from easyocr) (10.3.0)\n",
      "Requirement already satisfied: scikit-image in e:\\brad\\.conda\\lib\\site-packages (from easyocr) (0.23.2)\n",
      "Requirement already satisfied: python-bidi in e:\\brad\\.conda\\lib\\site-packages (from easyocr) (0.4.2)\n",
      "Requirement already satisfied: PyYAML in e:\\brad\\.conda\\lib\\site-packages (from easyocr) (6.0.1)\n",
      "Requirement already satisfied: Shapely in e:\\brad\\.conda\\lib\\site-packages (from easyocr) (2.0.4)\n",
      "Requirement already satisfied: pyclipper in e:\\brad\\.conda\\lib\\site-packages (from easyocr) (1.3.0.post5)\n",
      "Requirement already satisfied: ninja in e:\\brad\\.conda\\lib\\site-packages (from easyocr) (1.11.1.1)\n",
      "Requirement already satisfied: filelock in e:\\brad\\.conda\\lib\\site-packages (from torch->easyocr) (3.14.0)\n",
      "Requirement already satisfied: typing-extensions>=4.8.0 in e:\\brad\\.conda\\lib\\site-packages (from torch->easyocr) (4.11.0)\n",
      "Requirement already satisfied: sympy in e:\\brad\\.conda\\lib\\site-packages (from torch->easyocr) (1.12)\n",
      "Requirement already satisfied: networkx in e:\\brad\\.conda\\lib\\site-packages (from torch->easyocr) (3.3)\n",
      "Requirement already satisfied: jinja2 in e:\\brad\\.conda\\lib\\site-packages (from torch->easyocr) (3.1.4)\n",
      "Requirement already satisfied: fsspec in e:\\brad\\.conda\\lib\\site-packages (from torch->easyocr) (2024.5.0)\n",
      "Requirement already satisfied: mkl<=2021.4.0,>=2021.1.1 in e:\\brad\\.conda\\lib\\site-packages (from torch->easyocr) (2021.4.0)\n",
      "Requirement already satisfied: six in e:\\brad\\.conda\\lib\\site-packages (from python-bidi->easyocr) (1.16.0)\n",
      "Requirement already satisfied: imageio>=2.33 in e:\\brad\\.conda\\lib\\site-packages (from scikit-image->easyocr) (2.34.1)\n",
      "Requirement already satisfied: tifffile>=2022.8.12 in e:\\brad\\.conda\\lib\\site-packages (from scikit-image->easyocr) (2024.5.10)\n",
      "Requirement already satisfied: packaging>=21 in e:\\brad\\.conda\\lib\\site-packages (from scikit-image->easyocr) (24.0)\n",
      "Requirement already satisfied: lazy-loader>=0.4 in e:\\brad\\.conda\\lib\\site-packages (from scikit-image->easyocr) (0.4)\n",
      "Requirement already satisfied: intel-openmp==2021.* in e:\\brad\\.conda\\lib\\site-packages (from mkl<=2021.4.0,>=2021.1.1->torch->easyocr) (2021.4.0)\n",
      "Requirement already satisfied: tbb==2021.* in e:\\brad\\.conda\\lib\\site-packages (from mkl<=2021.4.0,>=2021.1.1->torch->easyocr) (2021.12.0)\n",
      "Requirement already satisfied: MarkupSafe>=2.0 in e:\\brad\\.conda\\lib\\site-packages (from jinja2->torch->easyocr) (2.1.5)\n",
      "Requirement already satisfied: mpmath>=0.19 in e:\\brad\\.conda\\lib\\site-packages (from sympy->torch->easyocr) (1.3.0)\n",
      "Note: you may need to restart the kernel to use updated packages.\n"
     ]
    }
   ],
   "source": [
    "%pip install opencv-python\n",
    "%pip install matplotlib\n",
    "%pip install numpy\n",
    "%pip install albumentations\n",
    "%pip install ultralytics==8.0.230\n",
    "%pip install gradio\n",
    "%pip install torch\n",
    "%pip install ruamel\n",
    "%pip install easyocr"
   ]
  },
  {
   "cell_type": "markdown",
   "metadata": {},
   "source": [
    "# Code"
   ]
  },
  {
   "cell_type": "code",
   "execution_count": 2,
   "metadata": {},
   "outputs": [
    {
     "name": "stderr",
     "output_type": "stream",
     "text": [
      "e:\\Brad\\.conda\\lib\\site-packages\\torch\\cuda\\__init__.py:749: UserWarning: CUDA initialization: The NVIDIA driver on your system is too old (found version 11060). Please update your GPU driver by downloading and installing a new version from the URL: http://www.nvidia.com/Download/index.aspx Alternatively, go to: https://pytorch.org to install a PyTorch version that has been compiled with your version of the CUDA driver. (Triggered internally at ..\\c10\\cuda\\CUDAFunctions.cpp:108.)\n",
      "  return torch._C._cuda_getDeviceCount() if nvml_count < 0 else nvml_count\n",
      "e:\\Brad\\.conda\\lib\\site-packages\\tqdm\\auto.py:21: TqdmWarning: IProgress not found. Please update jupyter and ipywidgets. See https://ipywidgets.readthedocs.io/en/stable/user_install.html\n",
      "  from .autonotebook import tqdm as notebook_tqdm\n"
     ]
    }
   ],
   "source": [
    "import cv2 \n",
    "from ultralytics import YOLO \n",
    "import gradio as gr\n",
    "import pandas as pd\n",
    "import easyocr\n",
    "import numpy as np\n",
    "import pathlib"
   ]
  },
  {
   "cell_type": "code",
   "execution_count": 3,
   "metadata": {},
   "outputs": [],
   "source": [
    "# windows path fix\n",
    "temp = pathlib.PosixPath\n",
    "pathlib.PosixPath = pathlib.WindowsPath"
   ]
  },
  {
   "cell_type": "code",
   "execution_count": 4,
   "metadata": {},
   "outputs": [],
   "source": [
    "# Define constants\n",
    "BOX_COLORS = {\n",
    "    \"unchecked\": (242, 48, 48),\n",
    "    \"checked\": (38, 115, 101),\n",
    "    \"block\": (242, 159, 5)\n",
    "}\n",
    "BOX_PADDING = 2\n"
   ]
  },
  {
   "cell_type": "code",
   "execution_count": 5,
   "metadata": {},
   "outputs": [],
   "source": [
    "# Load models\n",
    "DETECTION_MODEL = YOLO(\"../models/detector-model.pt\") \n",
    "CLASSIFICATION_MODEL = YOLO(\"../models/classifier-model.pt\")"
   ]
  },
  {
   "cell_type": "code",
   "execution_count": 6,
   "metadata": {},
   "outputs": [],
   "source": [
    "def isInside(bbox_a, bbox_b):\n",
    "    bbox_b = list(bbox_b)\n",
    "    bbox_a = bbox_a[0]\n",
    "    # Check if X and Y coordinates of bbox_a are greater than or equal to the X and Y coordinates of bbox_b\n",
    "    if bbox_a[0] >= bbox_b[0] and bbox_a[1] >= bbox_b[1]:\n",
    "        # Check if X coordinate of bbox_a is less than (X coordinate of bbox_b + width)\n",
    "        if bbox_a[2] < bbox_b[0] + bbox_b[2]:\n",
    "            # Check if Y coordinate of bbox_a is less than (Y coordinate of bbox_b + height)\n",
    "            if bbox_a[3] < bbox_b[1] + bbox_b[3]:\n",
    "                return True\n",
    "    return False"
   ]
  },
  {
   "cell_type": "code",
   "execution_count": 7,
   "metadata": {},
   "outputs": [],
   "source": [
    "def is_bbox_inside(xywh, bbox):\n",
    "    x, y = xywh[0], xywh[1]\n",
    "    w, h = xywh[2], xywh[3]\n",
    "\n",
    "    # Check if all corner points of the inner bbox are inside the outer bbox\n",
    "    for point in bbox:\n",
    "        px, py = point\n",
    "        if px < x or px > x + w or py < y or py > y + h:\n",
    "            return False\n",
    "\n",
    "    return True"
   ]
  },
  {
   "cell_type": "code",
   "execution_count": 8,
   "metadata": {},
   "outputs": [],
   "source": [
    "def getContour(image,bbox):\n",
    "    # Load image, grayscale, Gaussian blur, Otsu's threshold\n",
    "    gray = cv2.cvtColor(image, cv2.COLOR_BGR2GRAY)\n",
    "    blur = cv2.GaussianBlur(gray, (7,7), 0)\n",
    "    thresh = cv2.threshold(blur, 0, 255, cv2.THRESH_BINARY_INV + cv2.THRESH_OTSU)[1]\n",
    "\n",
    "    # Create rectangular structuring element and dilate\n",
    "    kernel = cv2.getStructuringElement(cv2.MORPH_RECT, (5,5))\n",
    "    dilate = cv2.dilate(thresh, kernel, iterations=4)\n",
    "\n",
    "    # Find contours and draw rectangle\n",
    "    cnts = cv2.findContours(dilate, cv2.RETR_EXTERNAL, cv2.CHAIN_APPROX_SIMPLE)\n",
    "    cnts = cnts[0] if len(cnts) == 2 else cnts[1]\n",
    "\n",
    "    for i in cnts:\n",
    "        if isInside(bbox,cv2.boundingRect(i)):\n",
    "            return(i)\n",
    "    raise Exception('WTF?!!')"
   ]
  },
  {
   "cell_type": "code",
   "execution_count": 13,
   "metadata": {},
   "outputs": [],
   "source": [
    "image_path = '../src/images/image2_mod.jpg'\n",
    "image = cv2.imread(image_path)"
   ]
  },
  {
   "cell_type": "code",
   "execution_count": 14,
   "metadata": {},
   "outputs": [
    {
     "name": "stdout",
     "output_type": "stream",
     "text": [
      "\n",
      "0: 640x512 5 uncheckeds, 4 checkeds, 3 msts, 424.5ms\n",
      "Speed: 4.5ms preprocess, 424.5ms inference, 1.0ms postprocess per image at shape (1, 3, 640, 512)\n"
     ]
    }
   ],
   "source": [
    "# Predict on image\n",
    "results = DETECTION_MODEL.predict(source=image, conf=0.01, iou=0.8) # Predict on image\n",
    "boxes = results[0].boxes # Get bounding boxes"
   ]
  },
  {
   "cell_type": "code",
   "execution_count": 15,
   "metadata": {},
   "outputs": [
    {
     "name": "stderr",
     "output_type": "stream",
     "text": [
      "Neither CUDA nor MPS are available - defaulting to CPU. Note: This module is much faster with a GPU.\n"
     ]
    }
   ],
   "source": [
    "reader = easyocr.Reader(['en']) # this needs to run only once to load the model into memory\n",
    "result = reader.readtext(image)"
   ]
  },
  {
   "cell_type": "code",
   "execution_count": 16,
   "metadata": {},
   "outputs": [
    {
     "name": "stdout",
     "output_type": "stream",
     "text": [
      "\n",
      "0: 32x32 unchecked 1.00, block 0.00, checked 0.00, 6.1ms\n",
      "Speed: 0.0ms preprocess, 6.1ms inference, 1.0ms postprocess per image at shape (1, 3, 32, 32)\n",
      "\n",
      "0: 32x32 unchecked 1.00, checked 0.00, block 0.00, 6.5ms\n",
      "Speed: 1.0ms preprocess, 6.5ms inference, 0.0ms postprocess per image at shape (1, 3, 32, 32)\n",
      "\n",
      "0: 32x32 checked 0.86, block 0.14, unchecked 0.00, 5.0ms\n",
      "Speed: 1.0ms preprocess, 5.0ms inference, 0.0ms postprocess per image at shape (1, 3, 32, 32)\n",
      "\n",
      "0: 32x32 checked 0.84, block 0.16, unchecked 0.00, 6.3ms\n",
      "Speed: 1.0ms preprocess, 6.3ms inference, 0.0ms postprocess per image at shape (1, 3, 32, 32)\n",
      "[[[703, 1065], [737, 1065], [737, 1081], [703, 1081]], [[789, 1081], [861, 1081], [861, 1099], [789, 1099]], [[543.2928932188134, 1202.2928932188136], [575.8755776840268, 1199.5169226570886], [576.7071067811866, 1213.7071067811864], [545.1244223159732, 1216.4830773429114]]]\n",
      "\n",
      "0: 32x32 unchecked 0.99, checked 0.00, block 0.00, 5.7ms\n",
      "Speed: 1.0ms preprocess, 5.7ms inference, 0.0ms postprocess per image at shape (1, 3, 32, 32)\n",
      "\n",
      "0: 32x32 unchecked 1.00, checked 0.00, block 0.00, 5.4ms\n",
      "Speed: 0.6ms preprocess, 5.4ms inference, 0.0ms postprocess per image at shape (1, 3, 32, 32)\n",
      "\n",
      "0: 32x32 block 0.57, checked 0.42, unchecked 0.00, 5.9ms\n",
      "Speed: 0.5ms preprocess, 5.9ms inference, 0.0ms postprocess per image at shape (1, 3, 32, 32)\n",
      "\n",
      "0: 32x32 block 0.85, unchecked 0.14, checked 0.01, 5.8ms\n",
      "Speed: 1.0ms preprocess, 5.8ms inference, 0.0ms postprocess per image at shape (1, 3, 32, 32)\n",
      "\n",
      "0: 32x32 block 0.61, checked 0.39, unchecked 0.00, 5.2ms\n",
      "Speed: 0.5ms preprocess, 5.2ms inference, 0.0ms postprocess per image at shape (1, 3, 32, 32)\n",
      "\n",
      "0: 32x32 unchecked 0.99, block 0.00, checked 0.00, 6.0ms\n",
      "Speed: 0.5ms preprocess, 6.0ms inference, 0.0ms postprocess per image at shape (1, 3, 32, 32)\n",
      "\n",
      "0: 32x32 checked 0.99, block 0.01, unchecked 0.00, 5.4ms\n",
      "Speed: 0.5ms preprocess, 5.4ms inference, 0.5ms postprocess per image at shape (1, 3, 32, 32)\n",
      "[[[206, 262], [678, 262], [678, 289], [206, 289]], [[208, 282], [864, 282], [864, 306], [208, 306]], [[871, 283], [1009, 283], [1009, 301], [871, 301]], [[208, 303], [523, 303], [523, 323], [208, 323]], [[211, 318], [817, 318], [817, 339], [211, 339]], [[823, 317], [1051, 317], [1051, 335], [823, 335]], [[209, 337], [521, 337], [521, 355], [209, 355]], [[217, 357], [289, 357], [289, 373], [217, 373]], [[445, 355], [559, 355], [559, 371], [445, 371]], [[737, 353], [771, 353], [771, 369], [737, 369]], [[867, 353], [911, 353], [911, 367], [867, 367]], [[959, 351], [1033, 351], [1033, 367], [959, 367]], [[210, 371], [399, 371], [399, 414], [210, 414]], [[444, 372], [498, 372], [498, 398], [444, 398]], [[514, 372], [570, 372], [570, 396], [514, 396]], [[563, 363], [635, 363], [635, 399], [563, 399]], [[739, 377], [769, 377], [769, 393], [739, 393]], [[957, 375], [1049, 375], [1049, 391], [957, 391]], [[447, 419], [521, 419], [521, 435], [447, 435]], [[526, 408], [608, 408], [608, 434], [526, 434]], [[618, 406], [704, 406], [704, 438], [618, 438]], [[746, 394], [836, 394], [836, 426], [746, 426]], [[220, 434], [934, 434], [934, 458], [220, 458]], [[275, 473], [307, 473], [307, 487], [275, 487]], [[767, 469], [793, 469], [793, 483], [767, 483]], [[217, 504], [749, 504], [749, 523], [217, 523]], [[241.02871413764274, 468.2516854477569], [270.8480336648438, 472.2352964145474], [267.97128586235726, 489.7483145522431], [238.15196633515623, 485.7647035854526]]]\n",
      "\n",
      "0: 32x32 unchecked 1.00, block 0.00, checked 0.00, 5.0ms\n",
      "Speed: 0.0ms preprocess, 5.0ms inference, 0.0ms postprocess per image at shape (1, 3, 32, 32)\n"
     ]
    },
    {
     "data": {
      "text/plain": [
       "True"
      ]
     },
     "execution_count": 16,
     "metadata": {},
     "output_type": "execute_result"
    }
   ],
   "source": [
    "DATA = []\n",
    "for i,box in enumerate(boxes):\n",
    "\n",
    "    # Get start and end points of the current box\n",
    "    start_box = (int(box.xyxy[0][0]), int(box.xyxy[0][1]))\n",
    "    end_box = (int(box.xyxy[0][2]), int(box.xyxy[0][3]))\n",
    "    ibox = image[start_box[1]:end_box[1], start_box[0]: end_box[0], :]\n",
    "\n",
    "    probs = CLASSIFICATION_MODEL.predict(source=ibox, conf=0.5)[0].probs\n",
    "    classification_class = list(BOX_COLORS)[2 - int(probs.top1)] \n",
    "    classification_class_conf = round(probs.top1conf.item(), 2)\n",
    "    cls = classification_class if classification_class_conf > 0.9 else list(BOX_COLORS)[int(box.cls)]\n",
    "\n",
    "    #centerpoint\n",
    "    bbox = box.xyxy\n",
    "    x = int(bbox[:,0] + bbox[:,2]) / 2\n",
    "    y = int(bbox[:,1] + bbox[:,3]) / 2\n",
    "    bbox = bbox.int().tolist()\n",
    "    \n",
    "    text = []\n",
    "    text_bboxes = []\n",
    "\n",
    "    if cls == 'checked':\n",
    "        cnt = getContour(image,bbox)\n",
    "        for detection in result:\n",
    "            bbox = detection[0]\n",
    "            if is_bbox_inside(cv2.boundingRect(cnt),bbox):\n",
    "                text.append(detection[1])  # Append text to list\n",
    "                text_bboxes.append(bbox)\n",
    "\n",
    "        # Find the bounding box closest to the point (x, y)\n",
    "        closest_bbox = None\n",
    "        closest_distance = float('inf')\n",
    "        index = 0\n",
    "        for i,bbox in enumerate(text_bboxes):\n",
    "            centroid_x = sum([p[0] for p in bbox]) / 4\n",
    "            centroid_y = sum([p[1] for p in bbox]) / 4\n",
    "            distance = np.sqrt((centroid_x - x)**2 + (centroid_y - y)**2)\n",
    "            if distance < closest_distance and centroid_y<y+15 and centroid_y>y-15 :\n",
    "                closest_bbox = bbox\n",
    "                closest_distance = distance\n",
    "                index = i\n",
    "\n",
    "        # Draw bounding box on the image\n",
    "        if closest_bbox is not None:\n",
    "            bbox = [[int(p[0]), int(p[1])] for p in closest_bbox]  # Convert float coordinates to int\n",
    "            for i in range(4):\n",
    "                cv2.line(image, tuple(bbox[i]), tuple(bbox[(i + 1) % 4]), (255, 255, 0), 2)\n",
    "            print(text_bboxes)\n",
    "            DATA.append({'class': cls, 'checkbox_coords': [x, y], 'closest_text': text[index]})\n",
    "        cv2.circle(image, (int(x), int(y)), 5, (0, 255, 0), -1)\n",
    "\n",
    "cv2.imwrite('test.jpg',image)\n"
   ]
  }
 ],
 "metadata": {
  "kernelspec": {
   "display_name": "Python 3",
   "language": "python",
   "name": "python3"
  },
  "language_info": {
   "codemirror_mode": {
    "name": "ipython",
    "version": 3
   },
   "file_extension": ".py",
   "mimetype": "text/x-python",
   "name": "python",
   "nbconvert_exporter": "python",
   "pygments_lexer": "ipython3",
   "version": "3.10.14"
  }
 },
 "nbformat": 4,
 "nbformat_minor": 2
}
